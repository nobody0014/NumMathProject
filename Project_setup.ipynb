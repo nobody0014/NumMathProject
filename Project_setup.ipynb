{
 "cells": [
  {
   "cell_type": "code",
   "execution_count": 4,
   "metadata": {
    "collapsed": true
   },
   "outputs": [],
   "source": [
    "from matplotlib import pyplot as plt\n",
    "from scipy.io.wavfile import read\n",
    "import numpy as np\n",
    "import wave\n",
    "import os\n",
    "import sys"
   ]
  },
  {
   "cell_type": "code",
   "execution_count": 6,
   "metadata": {
    "collapsed": true
   },
   "outputs": [],
   "source": [
    "# Backend fix, changed to type TkAgg, might not occur in other debugger\n",
    "\n",
    "plt.switch_backend('TkAgg')\n",
    "\n",
    "# OverflowError fix, increased fixed chunksize\n",
    "\n",
    "plt.rcParams['agg.path.chunksize'] = 10000\n",
    "\n",
    "\n",
    "# Take user input in the form of .wav\n",
    "# File folder is root/music/<file>\n",
    "def takeInput():\n",
    "    currentDir = os.path.dirname(__file__)\n",
    "    subDir = 'music'  # Sub folder in root\n",
    "    fileName = raw_input('Enter wav file: ')\n",
    "    fileType = fileName.split('.')[-1]\n",
    "\n",
    "    wholePath = os.path.join(currentDir, subDir, fileName)\n",
    "\n",
    "    # Wrong type\n",
    "\n",
    "    if fileType != \"wav\":\n",
    "        print 'Type not supported'\n",
    "        sys.exit(0)\n",
    "\n",
    "    # File doesn't exist\n",
    "\n",
    "    elif not os.path.exists(wholePath):\n",
    "        print 'Cannot find file'\n",
    "        sys.exit(0)\n",
    "\n",
    "    return wholePath\n",
    "\n",
    "\n",
    "# Check for wav's channel type\n",
    "# getnchannels() returns 2 if stereo, 1 if mono\n",
    "def isStereo(file):\n",
    "    return file.getnchannels() == 2\n",
    "\n",
    "\n",
    "# Convert stereo wav file to mono by manipulating 2 dimensional array\n",
    "# Stereo wav yields 2 channel in the form of [[left right], [left right] ....]\n",
    "def stereoToMono(audioArray):\n",
    "    monoResult = (audioArray[:, 0]/2) + (audioArray[:, 1]/2)  # (array[:,0]+array[:,1])/2 yields wrong result\n",
    "\n",
    "    return np.array(monoResult, 'Int16')  # Return in dtype='int16'\n",
    "\n",
    "\n",
    "# Plot wave for x-axis = time, y-axis = wave signal\n",
    "# Return wave length for main processing\n",
    "def processWave(path):\n",
    "    file = wave.open(path, 'r')  # Processed wave, read-only mode\n",
    "\n",
    "    # If Stereo, convert to mono, function somewhere up\n",
    "\n",
    "    if isStereo(file):\n",
    "        frameRate, x = read(path)  # Yields <Frame Rate, Audio Data>\n",
    "        signal = stereoToMono(x)\n",
    "\n",
    "    # If mono, do simple wave read\n",
    "\n",
    "    else:\n",
    "        frameRate = file.getframerate()  # Get frame rate for time axis (x-axis)\n",
    "        signal = np.fromstring(file.readframes(-1), 'Int16')\n",
    "\n",
    "    wavTime = np.linspace(0, len(signal)/frameRate, len(signal))  # Math stuff, nothing to see here\n",
    "\n",
    "    plt.figure()\n",
    "    plt.xlabel('Time (s)')\n",
    "    plt.ylabel('Wavelength (fuck knows)')\n",
    "    plt.plot(wavTime, signal)\n",
    "    plt.show()\n",
    "\n",
    "    return frameRate, signal\n",
    "\n",
    "\n",
    "# Execution steps, to be moved to its own file later\n",
    "def execute():\n",
    "    path = takeInput()\n",
    "    processWave(path)"
   ]
  },
  {
   "cell_type": "code",
   "execution_count": null,
   "metadata": {
    "collapsed": false
   },
   "outputs": [],
   "source": []
  },
  {
   "cell_type": "code",
   "execution_count": null,
   "metadata": {
    "collapsed": true
   },
   "outputs": [],
   "source": []
  }
 ],
 "metadata": {
  "kernelspec": {
   "display_name": "Python 2",
   "language": "python",
   "name": "python2"
  },
  "language_info": {
   "codemirror_mode": {
    "name": "ipython",
    "version": 2
   },
   "file_extension": ".py",
   "mimetype": "text/x-python",
   "name": "python",
   "nbconvert_exporter": "python",
   "pygments_lexer": "ipython2",
   "version": "2.7.10"
  }
 },
 "nbformat": 4,
 "nbformat_minor": 1
}
